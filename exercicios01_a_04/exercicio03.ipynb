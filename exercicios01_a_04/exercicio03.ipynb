{
 "cells": [
  {
   "cell_type": "markdown",
   "metadata": {},
   "source": [
    "comando para descobri o caminho absoluto da pasta atual no computador"
   ]
  },
  {
   "cell_type": "code",
   "execution_count": 1,
   "metadata": {},
   "outputs": [
    {
     "name": "stdout",
     "output_type": "stream",
     "text": [
      "c:\\Users\\andre\\Desktop\\MeusProjetos\\bootcamp-WoMakersCode\\BD-python\\exercicios01_a_04\n"
     ]
    }
   ],
   "source": [
    "import os\n",
    "print(os.getcwd())"
   ]
  },
  {
   "cell_type": "code",
   "execution_count": 2,
   "metadata": {},
   "outputs": [
    {
     "name": "stdout",
     "output_type": "stream",
     "text": [
      "Conexão feita com sucesso!\n"
     ]
    }
   ],
   "source": [
    "import sqlite3 \n",
    "\n",
    "#fazendo a conexao com o banco de dados na mesma pasta do arquivo python\n",
    "conexao = sqlite3.connect(r'c:\\Users\\andre\\Desktop\\MeusProjetos\\bootcamp-WoMakersCode\\BD-python\\exercicios01_a_04\\banco_facul.db')\n",
    "cursor = conexao.cursor()\n",
    "\n",
    "print('Conexão feita com sucesso!')"
   ]
  },
  {
   "cell_type": "markdown",
   "metadata": {},
   "source": [
    "### 3. Consultas Básicas  \n",
    "Escreva consultas SQL para realizar as seguintes tarefas:  \n"
   ]
  },
  {
   "cell_type": "markdown",
   "metadata": {},
   "source": [
    "a) Selecionar todos os registros da tabela \"alunos\". "
   ]
  },
  {
   "cell_type": "code",
   "execution_count": 3,
   "metadata": {},
   "outputs": [
    {
     "name": "stdout",
     "output_type": "stream",
     "text": [
      "(1, 'Ana', 22, 'Engenharia')\n",
      "(2, 'Bruna', 29, 'Química')\n",
      "(3, 'Beatriz', 18, 'Marketing Digital')\n",
      "(4, 'Pedro', 22, 'Engenharia')\n",
      "(5, 'Leonardo', 40, 'TI')\n"
     ]
    }
   ],
   "source": [
    "dados = cursor.execute('SELECT * FROM alunos') \n",
    "for alunos in dados:\n",
    "    print(alunos)"
   ]
  },
  {
   "cell_type": "markdown",
   "metadata": {},
   "source": [
    "b) Selecionar nome e idade dos alunos com mais de 20 anos. "
   ]
  },
  {
   "cell_type": "code",
   "execution_count": 9,
   "metadata": {},
   "outputs": [
    {
     "name": "stdout",
     "output_type": "stream",
     "text": [
      "('Ana', 22)\n",
      "('Bruna', 29)\n",
      "('Pedro', 22)\n",
      "('Leonardo', 40)\n"
     ]
    }
   ],
   "source": [
    "dados = cursor.execute('SELECT nome, idade FROM alunos WHERE idade > 20') \n",
    "for alunos in dados:\n",
    "     print(alunos)"
   ]
  },
  {
   "cell_type": "markdown",
   "metadata": {},
   "source": [
    "c) Selecionar os alunos do curso de \"Engenharia\" em ordem alfabética."
   ]
  },
  {
   "cell_type": "code",
   "execution_count": 11,
   "metadata": {},
   "outputs": [
    {
     "name": "stdout",
     "output_type": "stream",
     "text": [
      "(1, 'Ana', 22, 'Engenharia')\n",
      "(4, 'Pedro', 22, 'Engenharia')\n"
     ]
    }
   ],
   "source": [
    "dados = cursor.execute('SELECT * FROM alunos WHERE curso = \"Engenharia\"') \n",
    "for alunos in dados:\n",
    "     print(alunos)"
   ]
  },
  {
   "cell_type": "markdown",
   "metadata": {},
   "source": [
    "d) Contar o número total de alunos na tabela."
   ]
  },
  {
   "cell_type": "code",
   "execution_count": 14,
   "metadata": {},
   "outputs": [
    {
     "name": "stdout",
     "output_type": "stream",
     "text": [
      "(5,)\n"
     ]
    }
   ],
   "source": [
    "dados = cursor.execute('SELECT count(nome) FROM alunos') \n",
    "for alunos in dados:\n",
    "     print(alunos)"
   ]
  },
  {
   "cell_type": "code",
   "execution_count": 15,
   "metadata": {},
   "outputs": [],
   "source": [
    "# Confirma as mudanças no banco de dados\n",
    "conexao.commit()\n",
    "\n",
    "# Fecha a conexão com o banco de dados\n",
    "conexao.close()"
   ]
  }
 ],
 "metadata": {
  "kernelspec": {
   "display_name": "Python 3",
   "language": "python",
   "name": "python3"
  },
  "language_info": {
   "codemirror_mode": {
    "name": "ipython",
    "version": 3
   },
   "file_extension": ".py",
   "mimetype": "text/x-python",
   "name": "python",
   "nbconvert_exporter": "python",
   "pygments_lexer": "ipython3",
   "version": "3.11.9"
  }
 },
 "nbformat": 4,
 "nbformat_minor": 2
}
